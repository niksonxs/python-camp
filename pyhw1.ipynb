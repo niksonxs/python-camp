{
 "cells": [
  {
   "cell_type": "code",
   "execution_count": 31,
   "id": "2f55e384",
   "metadata": {},
   "outputs": [
    {
     "name": "stdout",
     "output_type": "stream",
     "text": [
      "1\n",
      "31\n"
     ]
    }
   ],
   "source": [
    "month = int(input())\n",
    "if month > 7:\n",
    "    month-=5\n",
    "if month % 2:\n",
    "    print(31)\n",
    "elif month==2:\n",
    "    print(28)\n",
    "else:\n",
    "    print(30)"
   ]
  },
  {
   "cell_type": "code",
   "execution_count": 30,
   "id": "5a093e99",
   "metadata": {},
   "outputs": [
    {
     "name": "stdout",
     "output_type": "stream",
     "text": [
      "2020\n",
      "2\n",
      "29\n"
     ]
    }
   ],
   "source": [
    "year = int(input())\n",
    "month = int(input())\n",
    "if month > 7:\n",
    "    month-=5\n",
    "if month % 2:\n",
    "    print(31)\n",
    "elif month==2:\n",
    "    if year%4:\n",
    "        print(28)\n",
    "    elif year%100:\n",
    "        print(29)\n",
    "    elif year%400:\n",
    "        print(28)\n",
    "    else:\n",
    "        print(29)\n",
    "else:\n",
    "    print(30)"
   ]
  },
  {
   "cell_type": "code",
   "execution_count": null,
   "id": "3d2988a6",
   "metadata": {},
   "outputs": [],
   "source": []
  }
 ],
 "metadata": {
  "kernelspec": {
   "display_name": "Python 3 (ipykernel)",
   "language": "python",
   "name": "python3"
  },
  "language_info": {
   "codemirror_mode": {
    "name": "ipython",
    "version": 3
   },
   "file_extension": ".py",
   "mimetype": "text/x-python",
   "name": "python",
   "nbconvert_exporter": "python",
   "pygments_lexer": "ipython3",
   "version": "3.9.7"
  }
 },
 "nbformat": 4,
 "nbformat_minor": 5
}
