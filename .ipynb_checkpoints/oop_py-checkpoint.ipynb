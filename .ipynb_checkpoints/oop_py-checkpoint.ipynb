{
 "cells": [
  {
   "cell_type": "code",
   "execution_count": 92,
   "id": "3e93378a",
   "metadata": {},
   "outputs": [],
   "source": [
    "class Animal(object):\n",
    "    color=''\n",
    "    name=''\n",
    "    age=0\n",
    "    nr_legs=0\n",
    "    def sound():\n",
    "        print('???')\n",
    "    def who(self):\n",
    "        print('Hello, my name is '+self.name+' i\\'m ' +str(self.age)+' years old and my color is '+self.color)\n",
    "        self.sound()\n",
    "        \n",
    "        "
   ]
  },
  {
   "cell_type": "code",
   "execution_count": 90,
   "id": "09dfed3c",
   "metadata": {},
   "outputs": [],
   "source": [
    "class Dog(Animal):\n",
    "    def __init__(self,name,color, age):\n",
    "        self.color=color\n",
    "        self.name=name\n",
    "        self.age=age\n",
    "    def sound(self): \n",
    "        print(\"Ham-Ham! rrrrr\") #acest caine vorbeste moldoveneste\n",
    "    "
   ]
  },
  {
   "cell_type": "code",
   "execution_count": 91,
   "id": "0baeff57",
   "metadata": {},
   "outputs": [],
   "source": [
    "class Cat(Animal):\n",
    "    def __init__(self,name,color, age):\n",
    "        self.color=color\n",
    "        self.name=name\n",
    "        self.age=age\n",
    "    def sound(self):\n",
    "        print('Miiiiiiaau :3')# pisica tot btw xD"
   ]
  },
  {
   "cell_type": "code",
   "execution_count": 93,
   "id": "dbf82992",
   "metadata": {},
   "outputs": [],
   "source": [
    "cat1 = Cat('Murca','orange',3)"
   ]
  },
  {
   "cell_type": "code",
   "execution_count": 94,
   "id": "4b519bf5",
   "metadata": {},
   "outputs": [],
   "source": [
    "dog1=Dog('Rex','black', 5)"
   ]
  },
  {
   "cell_type": "code",
   "execution_count": 95,
   "id": "b5c7a68a",
   "metadata": {},
   "outputs": [
    {
     "name": "stdout",
     "output_type": "stream",
     "text": [
      "Hello, my name is Rex i'm 5 years old and my color is black\n",
      "Ham-Ham! rrrrr\n"
     ]
    }
   ],
   "source": [
    "dog1.who()"
   ]
  },
  {
   "cell_type": "code",
   "execution_count": 96,
   "id": "99909c3f",
   "metadata": {},
   "outputs": [
    {
     "name": "stdout",
     "output_type": "stream",
     "text": [
      "Hello, my name is Murca i'm 3 years old and my color is orange\n",
      "Miiiiiiaau :3\n"
     ]
    }
   ],
   "source": [
    "cat1.who()"
   ]
  },
  {
   "cell_type": "code",
   "execution_count": null,
   "id": "da7ddc9d",
   "metadata": {},
   "outputs": [],
   "source": []
  }
 ],
 "metadata": {
  "kernelspec": {
   "display_name": "Python 3 (ipykernel)",
   "language": "python",
   "name": "python3"
  },
  "language_info": {
   "codemirror_mode": {
    "name": "ipython",
    "version": 3
   },
   "file_extension": ".py",
   "mimetype": "text/x-python",
   "name": "python",
   "nbconvert_exporter": "python",
   "pygments_lexer": "ipython3",
   "version": "3.9.7"
  }
 },
 "nbformat": 4,
 "nbformat_minor": 5
}
