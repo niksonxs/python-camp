{
 "cells": [
  {
   "cell_type": "code",
   "execution_count": 1,
   "id": "c0c2ef34",
   "metadata": {},
   "outputs": [
    {
     "name": "stdout",
     "output_type": "stream",
     "text": [
      "Salut! Ma numesc Nicu\n",
      "Salut! Ma numesc Nicu\n"
     ]
    }
   ],
   "source": [
    "def salut(name):\n",
    "    print(\"Salut! Ma numesc \"+name)\n",
    "    \n",
    "salut('Nicu')\n",
    "salut('Nicu')"
   ]
  },
  {
   "cell_type": "code",
   "execution_count": 2,
   "id": "fea2649f",
   "metadata": {},
   "outputs": [
    {
     "data": {
      "text/plain": [
       "3"
      ]
     },
     "execution_count": 2,
     "metadata": {},
     "output_type": "execute_result"
    }
   ],
   "source": [
    "def add(n1,n2):\n",
    "    return n1+n2\n",
    "add(1,2)"
   ]
  },
  {
   "cell_type": "code",
   "execution_count": 3,
   "id": "0a40f3d8",
   "metadata": {},
   "outputs": [],
   "source": [
    "def make_tuple(n1,n2):\n",
    "    return (n1,n2)"
   ]
  },
  {
   "cell_type": "code",
   "execution_count": 4,
   "id": "3012c76a",
   "metadata": {},
   "outputs": [
    {
     "data": {
      "text/plain": [
       "(4, 5)"
      ]
     },
     "execution_count": 4,
     "metadata": {},
     "output_type": "execute_result"
    }
   ],
   "source": [
    "make_tuple(4,5)"
   ]
  },
  {
   "cell_type": "code",
   "execution_count": 5,
   "id": "c6e87905",
   "metadata": {},
   "outputs": [],
   "source": [
    "class Desk():\n",
    "    def __init__(self,material,length,width):\n",
    "        self.length=length\n",
    "        self.material=material\n",
    "        self.width=width\n",
    "    material=\"wood\"\n",
    "    length=1\n",
    "    width=1\n",
    "    def area(self):\n",
    "        return self.length*self.width"
   ]
  },
  {
   "cell_type": "code",
   "execution_count": 6,
   "id": "01f26ace",
   "metadata": {},
   "outputs": [
    {
     "ename": "TypeError",
     "evalue": "__init__() missing 3 required positional arguments: 'material', 'length', and 'width'",
     "output_type": "error",
     "traceback": [
      "\u001b[1;31m---------------------------------------------------------------------------\u001b[0m",
      "\u001b[1;31mTypeError\u001b[0m                                 Traceback (most recent call last)",
      "\u001b[1;32mC:\\Temp/ipykernel_6476/927867546.py\u001b[0m in \u001b[0;36m<module>\u001b[1;34m\u001b[0m\n\u001b[1;32m----> 1\u001b[1;33m \u001b[0mmasa_nuc\u001b[0m\u001b[1;33m=\u001b[0m\u001b[0mDesk\u001b[0m\u001b[1;33m(\u001b[0m\u001b[1;33m)\u001b[0m\u001b[1;33m\u001b[0m\u001b[1;33m\u001b[0m\u001b[0m\n\u001b[0m",
      "\u001b[1;31mTypeError\u001b[0m: __init__() missing 3 required positional arguments: 'material', 'length', and 'width'"
     ]
    }
   ],
   "source": [
    "masa_nuc=Desk()"
   ]
  },
  {
   "cell_type": "code",
   "execution_count": null,
   "id": "f3a6b7fd",
   "metadata": {},
   "outputs": [],
   "source": [
    "masa_nuc.material=\"nuc\"\n",
    "masa_nuc.length=2\n",
    "masa_nuc.width=2"
   ]
  },
  {
   "cell_type": "code",
   "execution_count": null,
   "id": "7df4b005",
   "metadata": {},
   "outputs": [],
   "source": [
    "print(masa_nuc.material)"
   ]
  },
  {
   "cell_type": "code",
   "execution_count": null,
   "id": "be215fd4",
   "metadata": {},
   "outputs": [],
   "source": [
    "masa_nuc.area()"
   ]
  },
  {
   "cell_type": "code",
   "execution_count": null,
   "id": "71de07fc",
   "metadata": {},
   "outputs": [],
   "source": [
    "masa_stejar=Desk('stejar',3,3)"
   ]
  },
  {
   "cell_type": "code",
   "execution_count": null,
   "id": "3037c375",
   "metadata": {},
   "outputs": [],
   "source": [
    "masa_stejar.area()"
   ]
  },
  {
   "cell_type": "code",
   "execution_count": null,
   "id": "4bdbe272",
   "metadata": {},
   "outputs": [],
   "source": [
    "masa_tei=Desk()"
   ]
  },
  {
   "cell_type": "code",
   "execution_count": null,
   "id": "efa87553",
   "metadata": {},
   "outputs": [],
   "source": [
    "class Person():\n",
    "    __secret='secret'\n",
    "    def __init__(self,name,height,eye_color):\n",
    "        self.name=name\n",
    "        self.height=height\n",
    "        self._eye_color=eye_color\n",
    "        \n",
    "    def say_name(self):\n",
    "        print(\"Hello, my name is \"+self.name)\n",
    "    def say_secret(self):\n",
    "        print(self.__secret)"
   ]
  },
  {
   "cell_type": "code",
   "execution_count": null,
   "id": "3f854e28",
   "metadata": {},
   "outputs": [],
   "source": [
    "class Student(Person):\n",
    "    def __init__(self, school_name,name,height,eye_color):\n",
    "        super().__init__(name,height,eye_color)\n",
    "        self.school_name=school_name\n",
    "    def say_name(self):\n",
    "        print('i study at '+self.school_name)\n",
    "    "
   ]
  },
  {
   "cell_type": "code",
   "execution_count": null,
   "id": "e6429d16",
   "metadata": {},
   "outputs": [],
   "source": [
    "student = Student('UTM','Nicu',180,'blue')"
   ]
  },
  {
   "cell_type": "code",
   "execution_count": null,
   "id": "ead03e0b",
   "metadata": {},
   "outputs": [],
   "source": [
    "student.say_name()"
   ]
  },
  {
   "cell_type": "code",
   "execution_count": null,
   "id": "e3fd0136",
   "metadata": {},
   "outputs": [],
   "source": [
    "student.eye_color='red'"
   ]
  },
  {
   "cell_type": "code",
   "execution_count": null,
   "id": "415c6daf",
   "metadata": {},
   "outputs": [],
   "source": [
    "man = Person('Nicu',180,'blue')"
   ]
  },
  {
   "cell_type": "code",
   "execution_count": null,
   "id": "e3133e37",
   "metadata": {},
   "outputs": [],
   "source": [
    "man.say_secret()"
   ]
  },
  {
   "cell_type": "code",
   "execution_count": null,
   "id": "381b4626",
   "metadata": {},
   "outputs": [],
   "source": [
    "class_instance=(man,student)"
   ]
  },
  {
   "cell_type": "code",
   "execution_count": null,
   "id": "1e404c4c",
   "metadata": {},
   "outputs": [],
   "source": [
    "for individ in class_instance:\n",
    "    individ.say_name()"
   ]
  },
  {
   "cell_type": "code",
   "execution_count": null,
   "id": "63270fa2",
   "metadata": {},
   "outputs": [],
   "source": [
    "from lib2 import circle_area"
   ]
  },
  {
   "cell_type": "code",
   "execution_count": null,
   "id": "e347879b",
   "metadata": {},
   "outputs": [],
   "source": [
    "circle_area(3)"
   ]
  },
  {
   "cell_type": "code",
   "execution_count": 7,
   "id": "1e2336c8",
   "metadata": {},
   "outputs": [],
   "source": [
    "from mathgeo.volume import volume_cilinder"
   ]
  },
  {
   "cell_type": "code",
   "execution_count": 8,
   "id": "11b0f5f3",
   "metadata": {},
   "outputs": [
    {
     "name": "stdout",
     "output_type": "stream",
     "text": [
      "hi\n"
     ]
    },
    {
     "data": {
      "text/plain": [
       "235.5"
      ]
     },
     "execution_count": 8,
     "metadata": {},
     "output_type": "execute_result"
    }
   ],
   "source": [
    "volume_cilinder(5,3)"
   ]
  },
  {
   "cell_type": "code",
   "execution_count": null,
   "id": "e30cf9e0",
   "metadata": {},
   "outputs": [],
   "source": [
    "import geom"
   ]
  }
 ],
 "metadata": {
  "kernelspec": {
   "display_name": "Python 3 (ipykernel)",
   "language": "python",
   "name": "python3"
  },
  "language_info": {
   "codemirror_mode": {
    "name": "ipython",
    "version": 3
   },
   "file_extension": ".py",
   "mimetype": "text/x-python",
   "name": "python",
   "nbconvert_exporter": "python",
   "pygments_lexer": "ipython3",
   "version": "3.9.7"
  }
 },
 "nbformat": 4,
 "nbformat_minor": 5
}
